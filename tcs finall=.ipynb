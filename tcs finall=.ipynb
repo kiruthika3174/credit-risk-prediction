{
 "cells": [
  {
   "cell_type": "code",
   "execution_count": null,
   "id": "0172428d-3f8a-4ccc-b5f2-610514dd566f",
   "metadata": {},
   "outputs": [
    {
     "name": "stdout",
     "output_type": "stream",
     "text": [
      "Found existing installation: numpy None\n",
      "Note: you may need to restart the kernel to use updated packages.\n"
     ]
    },
    {
     "name": "stderr",
     "output_type": "stream",
     "text": [
      "error: uninstall-no-record-file\n",
      "\n",
      "Cannot uninstall numpy None\n",
      "\n",
      "The package's contents are unknown: no RECORD file was found for numpy.\n",
      "\n",
      "hint: You might be able to recover from this via: pip install --force-reinstall --no-deps numpy==1.26.4\n"
     ]
    }
   ],
   "source": [
    "pip uninstall numpy\n"
   ]
  },
  {
   "cell_type": "code",
   "execution_count": null,
   "id": "41c26018-f8e9-4f37-8634-466999d9fdfd",
   "metadata": {},
   "outputs": [
    {
     "name": "stdout",
     "output_type": "stream",
     "text": [
      "Note: you may need to restart the kernel to use updated packages.\n"
     ]
    },
    {
     "name": "stderr",
     "output_type": "stream",
     "text": [
      "The system cannot find the file specified.\n"
     ]
    }
   ],
   "source": [
    "pip install numpy<2\n"
   ]
  },
  {
   "cell_type": "code",
   "execution_count": null,
   "id": "1db28ada-a3a7-43ea-9ceb-b6ff0ede5eec",
   "metadata": {},
   "outputs": [
    {
     "name": "stdout",
     "output_type": "stream",
     "text": [
      "2.2.5\n"
     ]
    }
   ],
   "source": [
    "import numpy as np\n",
    "print(np.__version__)\n"
   ]
  },
  {
   "cell_type": "code",
   "execution_count": null,
   "id": "e621884a-65e0-4a25-b9f3-1211e5b720b8",
   "metadata": {},
   "outputs": [],
   "source": [
    "import pandas as pd\n",
    "import numpy as np\n",
    "import seaborn as sns\n",
    "import matplotlib.pyplot as plt\n",
    "from sklearn.model_selection import train_test_split\n",
    "from sklearn.preprocessing import StandardScaler\n",
    "from sklearn.ensemble import RandomForestClassifier\n",
    "from sklearn.metrics import accuracy_score, confusion_matrix, classification_report\n",
    "from sklearn.model_selection import GridSearchCV\n",
    "import joblib\n"
   ]
  },
  {
   "cell_type": "code",
   "execution_count": null,
   "id": "71625217-339a-4a9d-8d6b-b7c1dd25891f",
   "metadata": {},
   "outputs": [
    {
     "name": "stdout",
     "output_type": "stream",
     "text": [
      "   Unnamed: 0  Age     Sex  Job Housing Saving accounts Checking account  \\\n",
      "0           0   67    male    2     own             NaN           little   \n",
      "1           1   22  female    2     own          little         moderate   \n",
      "2           2   49    male    1     own          little              NaN   \n",
      "3           3   45    male    2    free          little           little   \n",
      "4           4   53    male    2    free          little           little   \n",
      "\n",
      "   Credit amount  Duration              Purpose  \n",
      "0           1169         6             radio/TV  \n",
      "1           5951        48             radio/TV  \n",
      "2           2096        12            education  \n",
      "3           7882        42  furniture/equipment  \n",
      "4           4870        24                  car  \n"
     ]
    }
   ],
   "source": [
    "import pandas as pd\n",
    "\n",
    "# Replace 'your_file.csv' with the actual file path\n",
    "df = pd.read_csv('german_credit_data.csv')\n",
    "\n",
    "# Display the first few rows of the dataset\n",
    "print(df.head())\n"
   ]
  },
  {
   "cell_type": "code",
   "execution_count": 10,
   "id": "00519235-05fc-4b95-948f-b636521122f4",
   "metadata": {},
   "outputs": [
    {
     "name": "stdout",
     "output_type": "stream",
     "text": [
      "              precision    recall  f1-score   support\n",
      "\n",
      "           0       0.97      1.00      0.99        33\n",
      "           1       1.00      0.99      1.00       167\n",
      "\n",
      "    accuracy                           0.99       200\n",
      "   macro avg       0.99      1.00      0.99       200\n",
      "weighted avg       1.00      0.99      1.00       200\n",
      "\n"
     ]
    }
   ],
   "source": [
    "import pandas as pd\n",
    "from sklearn.model_selection import train_test_split\n",
    "from sklearn.ensemble import RandomForestClassifier\n",
    "from sklearn.metrics import classification_report\n",
    "from sklearn.preprocessing import LabelEncoder\n",
    "\n",
    "# Load the dataset\n",
    "df = pd.read_csv('german_credit_data.csv')  # Replace with actual dataset path\n",
    "\n",
    "# Create a 'Risk' column based on Credit amount\n",
    "df['Risk'] = (df['Credit amount'] > 1000).astype(int)\n",
    "\n",
    "# Drop the unnecessary 'Unnamed: 0' column\n",
    "df = df.drop('Unnamed: 0', axis=1)\n",
    "\n",
    "# Encode categorical variables\n",
    "df_encoded = pd.get_dummies(df, drop_first=True)\n",
    "\n",
    "# Define features (X) and target (y)\n",
    "X = df_encoded.drop('Risk', axis=1)\n",
    "y = df_encoded['Risk']\n",
    "\n",
    "# Split the data into training and testing sets\n",
    "X_train, X_test, y_train, y_test = train_test_split(X, y, test_size=0.2, random_state=42)\n",
    "\n",
    "# Train the Random Forest model\n",
    "clf = RandomForestClassifier(random_state=42)\n",
    "clf.fit(X_train, y_train)\n",
    "\n",
    "# Make predictions and evaluate the model\n",
    "y_pred = clf.predict(X_test)\n",
    "print(classification_report(y_test, y_pred))\n"
   ]
  },
  {
   "cell_type": "code",
   "execution_count": 11,
   "id": "c7758a67-1141-4c8d-b345-739a750f3064",
   "metadata": {},
   "outputs": [
    {
     "name": "stdout",
     "output_type": "stream",
     "text": [
      "                        Feature  Importance\n",
      "2                 Credit amount    0.804093\n",
      "3                      Duration    0.065070\n",
      "0                           Age    0.043086\n",
      "1                           Job    0.017093\n",
      "14            Purpose_education    0.008979\n",
      "4                      Sex_male    0.008053\n",
      "10    Checking account_moderate    0.007244\n",
      "5                   Housing_own    0.006650\n",
      "12                  Purpose_car    0.005474\n",
      "11        Checking account_rich    0.005452\n",
      "8    Saving accounts_quite rich    0.005215\n",
      "13  Purpose_domestic appliances    0.003713\n",
      "16             Purpose_radio/TV    0.003608\n",
      "9          Saving accounts_rich    0.003494\n",
      "6                  Housing_rent    0.003359\n",
      "7      Saving accounts_moderate    0.003238\n",
      "17              Purpose_repairs    0.003182\n",
      "15  Purpose_furniture/equipment    0.002950\n",
      "18      Purpose_vacation/others    0.000045\n"
     ]
    }
   ],
   "source": [
    "# Get feature importance\n",
    "feature_importances = clf.feature_importances_\n",
    "\n",
    "# Get feature names\n",
    "feature_names = X.columns\n",
    "\n",
    "# Create a DataFrame to display the feature importance\n",
    "feature_importance_df = pd.DataFrame({\n",
    "    'Feature': feature_names,\n",
    "    'Importance': feature_importances\n",
    "}).sort_values(by='Importance', ascending=False)\n",
    "\n",
    "# Display feature importance\n",
    "print(feature_importance_df)\n"
   ]
  },
  {
   "cell_type": "code",
   "execution_count": 12,
   "id": "33be55cf-456a-421a-90f2-335aec103bc0",
   "metadata": {},
   "outputs": [
    {
     "data": {
      "image/png": "[encoded data removed]",
      "text/plain": [
       "<Figure size 1000x600 with 1 Axes>"
      ]
     },
     "metadata": {},
     "output_type": "display_data"
    }
   ],
   "source": [
    "import matplotlib.pyplot as plt\n",
    "\n",
    "# Plot feature importance\n",
    "plt.figure(figsize=(10, 6))\n",
    "plt.barh(feature_importance_df['Feature'], feature_importance_df['Importance'])\n",
    "plt.xlabel('Importance')\n",
    "plt.title('Feature Importance')\n",
    "plt.show()\n"
   ]
  },
  {
   "cell_type": "code",
   "execution_count": 13,
   "id": "c966e68e-450f-4079-8406-7bdb7df562dd",
   "metadata": {},
   "outputs": [
    {
     "name": "stdout",
     "output_type": "stream",
     "text": [
      "Best Parameters: {'max_depth': 10, 'min_samples_split': 2, 'n_estimators': 100}\n",
      "              precision    recall  f1-score   support\n",
      "\n",
      "           0       0.97      1.00      0.99        33\n",
      "           1       1.00      0.99      1.00       167\n",
      "\n",
      "    accuracy                           0.99       200\n",
      "   macro avg       0.99      1.00      0.99       200\n",
      "weighted avg       1.00      0.99      1.00       200\n",
      "\n"
     ]
    }
   ],
   "source": [
    "from sklearn.model_selection import GridSearchCV\n",
    "\n",
    "# Define the parameter grid\n",
    "param_grid = {\n",
    "    'n_estimators': [100, 200, 300],\n",
    "    'max_depth': [10, 20, 30],\n",
    "    'min_samples_split': [2, 5, 10],\n",
    "}\n",
    "\n",
    "# Create GridSearchCV object\n",
    "grid_search = GridSearchCV(estimator=RandomForestClassifier(random_state=42), param_grid=param_grid, cv=3, n_jobs=-1)\n",
    "\n",
    "# Fit the model\n",
    "grid_search.fit(X_train, y_train)\n",
    "\n",
    "# Print the best parameters\n",
    "print(f\"Best Parameters: {grid_search.best_params_}\")\n",
    "\n",
    "# Evaluate the model using the best parameters\n",
    "best_model = grid_search.best_estimator_\n",
    "y_pred_best = best_model.predict(X_test)\n",
    "print(classification_report(y_test, y_pred_best))\n"
   ]
  },
  {
   "cell_type": "code",
   "execution_count": null,
   "id": "885a5753-64f2-459f-be24-3909131cb789",
   "metadata": {},
   "outputs": [],
   "source": [
    "import tkinter as tk\n",
    "from tkinter import messagebox\n",
    "import numpy as np\n",
    "from sklearn.ensemble import RandomForestClassifier\n",
    "\n",
    "# Dummy model for illustration (replace this with your trained model)\n",
    "class DummyModel:\n",
    "    def predict(self, X):\n",
    "        return [0]  # Example: Always predict low credit risk (0)\n",
    "\n",
    "# Dummy model for illustration\n",
    "model = DummyModel()\n",
    "\n",
    "# Function to validate input and convert them into the right types\n",
    "def validate_inputs(duration, credit_amount, age, feature1, feature2):\n",
    "    try:\n",
    "        # Ensure numeric inputs are valid\n",
    "        duration = float(duration)\n",
    "        credit_amount = float(credit_amount)\n",
    "        age = float(age)\n",
    "        \n",
    "        # Ensure categorical inputs are either 0 or 1\n",
    "        feature1 = int(feature1)\n",
    "        feature2 = int(feature2)\n",
    "\n",
    "        # Check if the features are binary (0 or 1)\n",
    "        if feature1 not in [0, 1] or feature2 not in [0, 1]:\n",
    "            raise ValueError(\"Feature1 and Feature2 must be either 0 or 1.\")\n",
    "        \n",
    "        return duration, credit_amount, age, feature1, feature2\n",
    "    except ValueError as e:\n",
    "        messagebox.showerror(\"Invalid Input\", f\"Error: {e}\")\n",
    "        return None\n",
    "\n",
    "# Function to predict risk based on inputs\n",
    "def predict_risk():\n",
    "    # Get inputs from Entry and OptionMenu widgets\n",
    "    duration = duration_entry.get()\n",
    "    credit_amount = credit_amount_entry.get()\n",
    "    age = age_entry.get()\n",
    "    feature1 = feature1_var.get()\n",
    "    feature2 = feature2_var.get()\n",
    "    \n",
    "    # Validate inputs\n",
    "    inputs = validate_inputs(duration, credit_amount, age, feature1, feature2)\n",
    "    \n",
    "    if inputs is not None:\n",
    "        duration, credit_amount, age, feature1, feature2 = inputs\n",
    "\n",
    "        # Prepare input data for prediction\n",
    "        input_data = np.array([[duration, credit_amount, age, feature1, feature2]])\n",
    "        \n",
    "        # Example prediction (replace with actual model prediction)\n",
    "        prediction = model.predict(input_data)[0]\n",
    "        \n",
    "        # Show result\n",
    "        if prediction == 1:\n",
    "            messagebox.showinfo(\"Prediction Result\", \"High Credit Risk\")\n",
    "        else:\n",
    "            messagebox.showinfo(\"Prediction Result\", \"Low Credit Risk\")\n",
    "\n",
    "# Set up Tkinter window\n",
    "root = tk.Tk()\n",
    "root.title(\"Credit Risk Prediction\")\n",
    "\n",
    "# Add labels and entry fields for inputs\n",
    "tk.Label(root, text=\"Duration (months)\").grid(row=0, column=0)\n",
    "duration_entry = tk.Entry(root)\n",
    "duration_entry.grid(row=0, column=1)\n",
    "\n",
    "tk.Label(root, text=\"Credit Amount\").grid(row=1, column=0)\n",
    "credit_amount_entry = tk.Entry(root)\n",
    "credit_amount_entry.grid(row=1, column=1)\n",
    "\n",
    "tk.Label(root, text=\"Age\").grid(row=2, column=0)\n",
    "age_entry = tk.Entry(root)\n",
    "age_entry.grid(row=2, column=1)\n",
    "\n",
    "tk.Label(root, text=\"Feature1\").grid(row=3, column=0)\n",
    "feature1_var = tk.StringVar()\n",
    "feature1_menu = tk.OptionMenu(root, feature1_var, \"0\", \"1\")\n",
    "feature1_menu.grid(row=3, column=1)\n",
    "\n",
    "tk.Label(root, text=\"Feature2\").grid(row=4, column=0)\n",
    "feature2_var = tk.StringVar()\n",
    "feature2_menu = tk.OptionMenu(root, feature2_var, \"0\", \"1\")\n",
    "feature2_menu.grid(row=4, column=1)\n",
    "\n",
    "# Add Predict button\n",
    "predict_button = tk.Button(root, text=\"Predict Risk\", command=predict_risk)\n",
    "predict_button.grid(row=5, columnspan=2)\n",
    "\n",
    "# Start Tkinter main loop\n",
    "root.mainloop()\n"
   ]
  },
  {
   "cell_type": "code",
   "execution_count": null,
   "id": "369b75bc-09ed-4b7a-a720-2b8398265ee7",
   "metadata": {},
   "outputs": [],
   "source": []
  }
 ],
 "metadata": {
  "kernelspec": {
   "display_name": "Python 3 (ipykernel)",
   "language": "python",
   "name": "python3"
  },
  "language_info": {
   "codemirror_mode": {
    "name": "ipython",
    "version": 3
   },
   "file_extension": ".py",
   "mimetype": "text/x-python",
   "name": "python",
   "nbconvert_exporter": "python",
   "pygments_lexer": "ipython3",
   "version": "3.12.7"
  }
 },
 "nbformat": 4,
 "nbformat_minor": 5
}
